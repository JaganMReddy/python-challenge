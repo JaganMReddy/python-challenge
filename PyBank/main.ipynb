{
 "cells": [
  {
   "cell_type": "code",
   "execution_count": 38,
   "metadata": {},
   "outputs": [
    {
     "name": "stdout",
     "output_type": "stream",
     "text": [
      "Financial Analysis\n",
      "-----------------------------\n",
      "Total Months : 86\n",
      "Total : $38,382,578.00\n",
      "Average profit/loss : -$2,315.12\n",
      "Greatest Increase in Profits: Feb-12 ($1,926,159.00)\n",
      "Greatest Decrease in Profits: Sep-13 (-$2,196,167.00)\n"
     ]
    }
   ],
   "source": [
    "import os\n",
    "import csv\n",
    "\n",
    "# declare vaiables to store the result needed \n",
    "total_number_of_months = 0\n",
    "total_net_amount = 0.00\n",
    "total_profitloss_amount = 0.00\n",
    "average_profitloss_amount = 0.00\n",
    "net_profitloss_amount = 0.00\n",
    "greatest_increase_month = \"Month\"\n",
    "greatest_decrease_month = \"Month\"\n",
    "greatest_increase_amount = 0.00\n",
    "greatest_decrease_amount = 0.00\n",
    "previous_revenue = 0.00\n",
    "\n",
    "# Currency converter into readable format\n",
    "def as_currency(amount):\n",
    "    if amount >= 0:\n",
    "        return '${:,.2f}'.format(amount)\n",
    "    else:\n",
    "        return '-${:,.2f}'.format(-amount)\n",
    "\n",
    "# oepn the file\n",
    "with open(\"C:\\\\Users\\\\HZ3903\\\\UTAUS201807DATA2\\\\homework-instructions\\\\03-Python-Instructions\\\\Instructions\\\\PyBank\\\\Resources\\\\budget_data.csv\") as infile:\n",
    "    reader = csv.reader(infile)  \n",
    "    \n",
    "    next(reader, None)  # skip the headers\n",
    "    \n",
    "    for row in reader: # process each row of the input\n",
    "        date = row[0]\n",
    "        revenue = row[1]\n",
    "\n",
    "        total_number_of_months = total_number_of_months + 1\n",
    "        \n",
    "        total_net_amount = total_net_amount + float(revenue)\n",
    "        \n",
    "        if total_number_of_months > 1 : # ignore the first data row for the change\n",
    "           total_profitloss_amount = total_profitloss_amount + float(revenue) - float(previous_revenue)\n",
    "            \n",
    "        if float(revenue) - float(previous_revenue) > float(greatest_increase_amount) :\n",
    "           greatest_increase_amount = float(revenue) - float(previous_revenue)\n",
    "           greatest_increase_month = date\n",
    "        \n",
    "\n",
    "        if float(revenue) - float(previous_revenue ) < float(greatest_decrease_amount) :\n",
    "           greatest_decrease_amount = float(revenue) - float(previous_revenue)\n",
    "           greatest_decrease_month = date\n",
    "        \n",
    "        previous_revenue = float(revenue)\n",
    "    \n",
    "    average_profitloss_amount = total_profitloss_amount / (total_number_of_months - 1) \n",
    "                \n",
    "#   display output on the terminal        \n",
    "    print(\"Financial Analysis\")\n",
    "    print(\"-----------------------------\")\n",
    "    print(\"Total Months : \" + str(total_number_of_months))\n",
    "    print(\"Total : \" + as_currency(total_net_amount))\n",
    "    print(\"Average profit/loss : \" + as_currency(float(average_profitloss_amount)))\n",
    "    print(\"Greatest Increase in Profits: \" + str(greatest_increase_month) + \" (\" + as_currency(greatest_increase_amount) + \")\")\n",
    "    print(\"Greatest Decrease in Profits: \" + str(greatest_decrease_month) + \" (\" +as_currency(greatest_decrease_amount) + \")\")\n",
    "\n",
    "#   open file       \n",
    "    file = open(\"PyBank_Output_new8.txt\", \"a+\")\n",
    "\n",
    "#   write to the file\n",
    "    file.write(\"Financial Analysis\" + \"\\n\" )\n",
    "    file.write(\"-----------------------------\" + \"\\n\")\n",
    "    file.write(\"Total Months : \" + str(total_number_of_months) + \"\\n\")\n",
    "    file.write(\"Total : \" + as_currency(total_net_amount) + \"\\n\")\n",
    "    file.write(\"Average profit/loss : \" + as_currency(float(average_profitloss_amount)) + \"\\n\")\n",
    "    file.write(\"Greatest Increase in Profits: \" + str(greatest_increase_month) + \" (\" + as_currency(greatest_increase_amount) + \")\" + \"\\n\")\n",
    "    file.write(\"Greatest Decrease in Profits: \" + str(greatest_decrease_month) + \" (\" + as_currency(greatest_decrease_amount) + \")\" + \"\\n\")\n",
    "\n",
    "#   close the file      \n",
    "    file.close()\n",
    "    \n",
    "\n",
    "   \n",
    "            \n",
    "   "
   ]
  },
  {
   "cell_type": "code",
   "execution_count": null,
   "metadata": {},
   "outputs": [],
   "source": []
  },
  {
   "cell_type": "code",
   "execution_count": 9,
   "metadata": {},
   "outputs": [
    {
     "name": "stdout",
     "output_type": "stream",
     "text": [
      "1234.5\n",
      "1234.5\n"
     ]
    }
   ],
   "source": [
    "money = float(1234.5)\n",
    "print(money) #output is 1234.5\n",
    "'${:,.2f}'.format(money)\n",
    "print(money) #output is 1234.5"
   ]
  },
  {
   "cell_type": "code",
   "execution_count": 10,
   "metadata": {},
   "outputs": [
    {
     "data": {
      "text/plain": [
       "'$1,234.50'"
      ]
     },
     "execution_count": 10,
     "metadata": {},
     "output_type": "execute_result"
    }
   ],
   "source": [
    "'${:,.2f}'.format(money)"
   ]
  },
  {
   "cell_type": "code",
   "execution_count": 22,
   "metadata": {},
   "outputs": [],
   "source": [
    "def as_currency(amount):\n",
    "    if amount >= 0:\n",
    "        return '${:,.2f}'.format(amount)\n",
    "    else:\n",
    "        return '-${:,.2f}'.format(-amount)"
   ]
  },
  {
   "cell_type": "code",
   "execution_count": 23,
   "metadata": {},
   "outputs": [
    {
     "name": "stdout",
     "output_type": "stream",
     "text": [
      "$1,234.50\n"
     ]
    }
   ],
   "source": [
    "print(as_currency(money))"
   ]
  },
  {
   "cell_type": "code",
   "execution_count": null,
   "metadata": {},
   "outputs": [],
   "source": []
  }
 ],
 "metadata": {
  "kernelspec": {
   "display_name": "Python 3",
   "language": "python",
   "name": "python3"
  },
  "language_info": {
   "codemirror_mode": {
    "name": "ipython",
    "version": 3
   },
   "file_extension": ".py",
   "mimetype": "text/x-python",
   "name": "python",
   "nbconvert_exporter": "python",
   "pygments_lexer": "ipython3",
   "version": "3.6.5"
  }
 },
 "nbformat": 4,
 "nbformat_minor": 2
}
