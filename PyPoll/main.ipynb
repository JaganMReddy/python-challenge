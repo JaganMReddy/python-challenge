{
 "cells": [
  {
   "cell_type": "code",
   "execution_count": 7,
   "metadata": {},
   "outputs": [
    {
     "name": "stdout",
     "output_type": "stream",
     "text": [
      "Election Results\n",
      "-----------------------------\n",
      "Total Votes : 3521001\n",
      "-----------------------------\n"
     ]
    }
   ],
   "source": [
    "import os\n",
    "import csv\n",
    "\n",
    "# declare vaiables to store the result needed \n",
    "total_votes = 0\n",
    "total_net_amount = 0.00\n",
    "total_profitloss_amount = 0.00\n",
    "average_profitloss_amount = 0.00\n",
    "net_profitloss_amount = 0.00\n",
    "greatest_increase_month = \"Month\"\n",
    "greatest_decrease_month = \"Month\"\n",
    "greatest_increase_amount = 0.00\n",
    "greatest_decrease_amount = 0.00\n",
    "previous_revenue = 0.00\n",
    "\n",
    "# Currency converter into readable format\n",
    "def as_currency(amount):\n",
    "    if amount >= 0:\n",
    "        return '${:,.2f}'.format(amount)\n",
    "    else:\n",
    "        return '-${:,.2f}'.format(-amount)\n",
    "\n",
    "# oepn the file\n",
    "with open(\"C:\\\\Users\\\\HZ3903\\\\UTAUS201807DATA2\\\\homework-instructions\\\\03-Python-Instructions\\\\Instructions\\\\PyPoll\\\\Resources\\\\election_data.csv\") as infile:\n",
    "    reader = csv.reader(infile)  \n",
    "    \n",
    "    next(reader, None)  # skip the headers\n",
    "    \n",
    "    for row in reader: # process each row of the input\n",
    "        voter_id = row[0]\n",
    "        county = row[1]\n",
    "        Contender = row[2]\n",
    "        total_votes +=1\n",
    "#        print(str(voter_id) + county + Contender)\n",
    "#   display output on the terminal        \n",
    "\n",
    "    print(\"Election Results\")\n",
    "    print(\"-----------------------------\")\n",
    "    print(\"Total Votes : \" + str(total_votes))\n",
    "    print(\"-----------------------------\")\n",
    "\n",
    "#   open file       \n",
    "    file = open(\"PyPoll_Output.txt\", \"a+\")\n",
    "\n",
    "#   write to the file\n",
    "    file.write(\"Election Results\" + \"\\n\" )\n",
    "    file.write(\"-----------------------------\" + \"\\n\")\n",
    "    file.write(\"Total Votes : \" + str(total_votes) + \"\\n\")\n",
    "    file.write(\"-----------------------------\" + \"\\n\")\n",
    "    \n",
    "#   close the file      \n",
    "    file.close()\n",
    "\n"
   ]
  },
  {
   "cell_type": "code",
   "execution_count": null,
   "metadata": {},
   "outputs": [],
   "source": []
  }
 ],
 "metadata": {
  "kernelspec": {
   "display_name": "Python 3",
   "language": "python",
   "name": "python3"
  },
  "language_info": {
   "codemirror_mode": {
    "name": "ipython",
    "version": 3
   },
   "file_extension": ".py",
   "mimetype": "text/x-python",
   "name": "python",
   "nbconvert_exporter": "python",
   "pygments_lexer": "ipython3",
   "version": "3.6.5"
  }
 },
 "nbformat": 4,
 "nbformat_minor": 2
}
