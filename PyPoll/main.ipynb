{
 "cells": [
  {
   "cell_type": "code",
   "execution_count": 109,
   "metadata": {},
   "outputs": [
    {
     "name": "stdout",
     "output_type": "stream",
     "text": [
      "Election Results\n",
      "-----------------------------\n",
      "Total Votes : 3521001\n",
      "-----------------------------\n",
      "Khan\t: 63.000 (2218231 )\n",
      "Correy\t: 20.000 (704200 )\n",
      "Li\t: 14.000 (492940 )\n",
      "O'Tooley\t: 3.000 (105630 )\n",
      "-----------------------------\n",
      "Winner: Khan\n",
      "-----------------------------\n"
     ]
    }
   ],
   "source": [
    "import os\n",
    "import csv\n",
    "\n",
    "# declare vaiables to store the result needed \n",
    "total_votes = 0\n",
    "contenders_votes = {}\n",
    "\n",
    "# oepn the file\n",
    "with open(\"C:\\\\Users\\\\HZ3903\\\\UTAUS201807DATA2\\\\homework-instructions\\\\03-Python-Instructions\\\\Instructions\\\\PyPoll\\\\Resources\\\\election_data.csv\") as infile:\n",
    "    reader = csv.reader(infile)  \n",
    "    \n",
    "    next(reader, None)  # skip the headers\n",
    "    \n",
    "    for row in reader:  # process each row of the input\n",
    "        voter_id = row[0]\n",
    "        county = row[1]\n",
    "        contender = row[2]\n",
    "        total_votes +=1\n",
    "        if contender in contenders_votes :\n",
    "           contenders_votes[contender] = contenders_votes[contender] + 1 \n",
    "        else:\n",
    "           contenders_votes[contender] = 1\n",
    "    \n",
    "#   Print the summary at the terminal\n",
    "\n",
    "    print(\"Election Results\")\n",
    "    print(\"-----------------------------\")\n",
    "    print(\"Total Votes : \" + str(total_votes))\n",
    "    print(\"-----------------------------\")\n",
    "\n",
    "    for key,value in contenders_votes.items():\n",
    "        print (str(key) +  \"\\t\" + \": \" + str('{:,.3f}'.format(value * 100/total_votes) ) + \" (\" + str(value) + \" )\" )  \n",
    "    print(\"-----------------------------\")\n",
    "    for key,value in contenders_votes.items(): \n",
    "        print (\"Winner: \" + str(key)) \n",
    "        break\n",
    "    print(\"-----------------------------\")\n",
    "    \n",
    "#   open file       \n",
    "    file = open(\"PyPoll_Output.txt\", \"a+\")\n",
    "\n",
    "#   write to the file\n",
    "    file.write(\"Election Results\" + \"\\n\" )\n",
    "    file.write(\"-----------------------------\" + \"\\n\")\n",
    "    file.write(\"Total Votes : \" + str(total_votes) + \"\\n\")\n",
    "    file.write(\"-----------------------------\" + \"\\n\")\n",
    "    for key,value in contenders_votes.items():\n",
    "        file.write(str(key) +  \"\\t\" + \": \" + str('{:,.3f}'.format(value * 100/total_votes) ) + \" (\" + str(value) + \" )\" + \"\\n\")  \n",
    "    file.write(\"-----------------------------\")\n",
    "    for key,value in contenders_votes.items(): \n",
    "        file.write(\"Winner: \" + str(key) + \"\\n\") \n",
    "        break\n",
    "    file.write(\"-----------------------------\")    \n",
    "#   close the file      \n",
    "    file.close()\n",
    "\n"
   ]
  },
  {
   "cell_type": "code",
   "execution_count": null,
   "metadata": {},
   "outputs": [],
   "source": [
    "for key,value in contenders_votes.items(): \n",
    "    print (str(key) +  \" => \" + str('{:,.3f}'.format(value * 100/total_votes) ) + \" (\" + str(value) + \" )\" ) \n",
    "    break\n",
    "    "
   ]
  },
  {
   "cell_type": "code",
   "execution_count": null,
   "metadata": {},
   "outputs": [],
   "source": [
    "myDict = {}\n",
    "myDict[\"john\"] = 10\n",
    "myDict[\"jeff\"] = 20\n",
    "myDict[\"john\"] = myDict[\"john\"] + 10\n",
    "myDict[\"jeff\"] = myDict[\"jeff\"] + 20\n",
    "print(myDict)"
   ]
  },
  {
   "cell_type": "code",
   "execution_count": null,
   "metadata": {},
   "outputs": [],
   "source": []
  },
  {
   "cell_type": "code",
   "execution_count": null,
   "metadata": {},
   "outputs": [],
   "source": []
  }
 ],
 "metadata": {
  "kernelspec": {
   "display_name": "Python 3",
   "language": "python",
   "name": "python3"
  },
  "language_info": {
   "codemirror_mode": {
    "name": "ipython",
    "version": 3
   },
   "file_extension": ".py",
   "mimetype": "text/x-python",
   "name": "python",
   "nbconvert_exporter": "python",
   "pygments_lexer": "ipython3",
   "version": "3.6.5"
  }
 },
 "nbformat": 4,
 "nbformat_minor": 2
}
